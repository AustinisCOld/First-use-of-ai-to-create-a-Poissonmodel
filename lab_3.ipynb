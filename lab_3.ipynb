{
  "nbformat": 4,
  "nbformat_minor": 0,
  "metadata": {
    "colab": {
      "provenance": [],
      "authorship_tag": "ABX9TyMQhXQWZAS2ES2/KmOBXQN0",
      "include_colab_link": true
    },
    "kernelspec": {
      "name": "python3",
      "display_name": "Python 3"
    },
    "language_info": {
      "name": "python"
    }
  },
  "cells": [
    {
      "cell_type": "markdown",
      "metadata": {
        "id": "view-in-github",
        "colab_type": "text"
      },
      "source": [
        "<a href=\"https://colab.research.google.com/github/AustinisCOld/First-use-of-ai-to-create-a-Poissonmodel/blob/main/lab_3.ipynb\" target=\"_parent\"><img src=\"https://colab.research.google.com/assets/colab-badge.svg\" alt=\"Open In Colab\"/></a>"
      ]
    },
    {
      "cell_type": "code",
      "execution_count": null,
      "metadata": {
        "colab": {
          "base_uri": "https://localhost:8080/"
        },
        "id": "rr94MqMAfpK5",
        "outputId": "e1e03f74-5018-49d2-b954-0494bf93f2c5"
      },
      "outputs": [
        {
          "output_type": "stream",
          "name": "stdout",
          "text": [
            "Model Accuracy: 80.00%\n",
            "Predicted SalesUp for new observation: 1\n"
          ]
        }
      ],
      "source": [
        "import pandas as pd\n",
        "from sklearn.linear_model import LogisticRegression\n",
        "from sklearn.model_selection import train_test_split\n",
        "from sklearn.metrics import accuracy_score\n",
        "\n",
        "# Load the data\n",
        "data = pd.read_csv('ReviewData.csv')\n",
        "\n",
        "# Convert Sentiment to numeric (+1 for positive, -1 for negative)\n",
        "data['Sentiment'] = data['Sentiment'].map({'positive': 1, 'negative': -1})\n",
        "\n",
        "# Define independent variables and dependent variable\n",
        "X = data[['Rating', 'Length', 'Sentiment', 'Votes']]\n",
        "y = data['SalesUp']\n",
        "\n",
        "# Split data into training and testing sets (80% train, 20% test)\n",
        "X_train, X_test, y_train, y_test = train_test_split(X, y, test_size=0.2, random_state=42)\n",
        "\n",
        "# Create and fit the logistic regression model\n",
        "model = LogisticRegression()\n",
        "model.fit(X_train, y_train)\n",
        "\n",
        "# Predict on the test set and calculate accuracy\n",
        "y_pred = model.predict(X_test)\n",
        "accuracy = accuracy_score(y_test, y_pred)\n",
        "print(f\"Model Accuracy: {accuracy * 100:.2f}%\")\n",
        "\n",
        "# Predict SalesUp for a new observation\n",
        "new_observation = pd.DataFrame({\n",
        "    'Rating': [5],\n",
        "    'Length': [200],\n",
        "    'Sentiment': [-1],  # negative sentiment\n",
        "    'Votes': [5]\n",
        "})\n",
        "\n",
        "predicted_salesup = model.predict(new_observation)\n",
        "print(f\"Predicted SalesUp for new observation: {predicted_salesup[0]}\")"
      ]
    },
    {
      "cell_type": "code",
      "source": [
        "import pandas as pd\n",
        "from sklearn.svm import SVC\n",
        "from sklearn.model_selection import train_test_split\n",
        "from sklearn.metrics import accuracy_score\n",
        "\n",
        "# Load the data\n",
        "data = pd.read_csv('ReviewData.csv')\n",
        "\n",
        "# Convert Sentiment to numeric (+1 for positive, -1 for negative)\n",
        "data['Sentiment'] = data['Sentiment'].map({'positive': 1, 'negative': -1})\n",
        "\n",
        "# Define independent variables and dependent variable\n",
        "X = data[['Rating', 'Length', 'Sentiment', 'Votes']]\n",
        "y = data['SalesUp']\n",
        "\n",
        "# Split data into training and testing sets (80% train, 20% test)\n",
        "X_train, X_test, y_train, y_test = train_test_split(X, y, test_size=0.2, random_state=42)\n",
        "\n",
        "# Create and fit the SVM model\n",
        "svm_model = SVC(kernel='linear', random_state=42)\n",
        "svm_model.fit(X_train, y_train)\n",
        "\n",
        "# Predict on the test set and calculate accuracy\n",
        "y_pred = svm_model.predict(X_test)\n",
        "accuracy = accuracy_score(y_test, y_pred)\n",
        "print(f\"SVM Model Accuracy: {accuracy * 100:.2f}%\")\n",
        "\n",
        "# Predict SalesUp for a new observation\n",
        "new_observation = pd.DataFrame({\n",
        "    'Rating': [5],\n",
        "    'Length': [200],\n",
        "    'Sentiment': [-1],  # negative sentiment\n",
        "    'Votes': [5]\n",
        "})\n",
        "\n",
        "predicted_salesup = svm_model.predict(new_observation)\n",
        "print(f\"Predicted SalesUp for new observation: {predicted_salesup[0]}\")"
      ],
      "metadata": {
        "colab": {
          "base_uri": "https://localhost:8080/"
        },
        "id": "grOtGfwp0zNj",
        "outputId": "0c3604fc-905a-4418-bc2f-5e502fca792a"
      },
      "execution_count": null,
      "outputs": [
        {
          "output_type": "stream",
          "name": "stdout",
          "text": [
            "SVM Model Accuracy: 85.00%\n",
            "Predicted SalesUp for new observation: 1\n"
          ]
        }
      ]
    },
    {
      "cell_type": "code",
      "source": [
        "import pandas as pd\n",
        "from sklearn.neighbors import KNeighborsClassifier\n",
        "from sklearn.model_selection import train_test_split\n",
        "from sklearn.metrics import accuracy_score\n",
        "\n",
        "# Load the data\n",
        "data = pd.read_csv('ReviewData.csv')\n",
        "\n",
        "# Convert Sentiment to numeric (+1 for positive, -1 for negative)\n",
        "data['Sentiment'] = data['Sentiment'].map({'positive': 1, 'negative': -1})\n",
        "\n",
        "# Define independent variables and dependent variable\n",
        "X = data[['Rating', 'Length', 'Sentiment', 'Votes']]\n",
        "y = data['SalesUp']\n",
        "\n",
        "# Split data into training and testing sets (80% train, 20% test)\n",
        "X_train, X_test, y_train, y_test = train_test_split(X, y, test_size=0.2, random_state=42)\n",
        "\n",
        "# Create and fit the KNN model with k=5\n",
        "knn_model = KNeighborsClassifier(n_neighbors=5)\n",
        "knn_model.fit(X_train, y_train)\n",
        "\n",
        "# Predict on the test set and calculate accuracy\n",
        "y_pred = knn_model.predict(X_test)\n",
        "accuracy = accuracy_score(y_test, y_pred)\n",
        "print(f\"KNN Model Accuracy (k=5): {accuracy * 100:.2f}%\")\n",
        "\n",
        "# Predict SalesUp for a new observation\n",
        "new_observation = pd.DataFrame({\n",
        "    'Rating': [5],\n",
        "    'Length': [200],\n",
        "    'Sentiment': [-1],  # negative sentiment\n",
        "    'Votes': [5]\n",
        "})\n",
        "\n",
        "predicted_salesup = knn_model.predict(new_observation)\n",
        "print(f\"Predicted SalesUp for new observation: {predicted_salesup[0]}\")"
      ],
      "metadata": {
        "colab": {
          "base_uri": "https://localhost:8080/"
        },
        "id": "23H2kvji0457",
        "outputId": "bce8f1d1-966d-40a1-88a4-4d1f7e344992"
      },
      "execution_count": null,
      "outputs": [
        {
          "output_type": "stream",
          "name": "stdout",
          "text": [
            "KNN Model Accuracy (k=5): 60.00%\n",
            "Predicted SalesUp for new observation: 0\n"
          ]
        }
      ]
    },
    {
      "cell_type": "code",
      "source": [
        "import pandas as pd\n",
        "from sklearn.neural_network import MLPClassifier\n",
        "from sklearn.model_selection import train_test_split\n",
        "from sklearn.preprocessing import StandardScaler\n",
        "from sklearn.metrics import accuracy_score\n",
        "\n",
        "# Load the data\n",
        "data = pd.read_csv('ReviewData.csv')\n",
        "\n",
        "# Convert Sentiment to numeric (+1 for positive, -1 for negative)\n",
        "data['Sentiment'] = data['Sentiment'].map({'positive': 1, 'negative': -1})\n",
        "\n",
        "# Define independent variables and dependent variable\n",
        "X = data[['Rating', 'Length', 'Sentiment', 'Votes']]\n",
        "y = data['SalesUp']\n",
        "\n",
        "# Scale features for better neural network performance\n",
        "scaler = StandardScaler()\n",
        "X_scaled = scaler.fit_transform(X)\n",
        "\n",
        "# Split data into training and testing sets (80% train, 20% test)\n",
        "X_train, X_test, y_train, y_test = train_test_split(X_scaled, y, test_size=0.2, random_state=42)\n",
        "\n",
        "# Create and fit the Neural Network (MLPClassifier)\n",
        "nn_model = MLPClassifier(hidden_layer_sizes=(100,), activation='relu', solver='adam', max_iter=500, random_state=42)\n",
        "nn_model.fit(X_train, y_train)\n",
        "\n",
        "# Predict on the test set and calculate accuracy\n",
        "y_pred = nn_model.predict(X_test)\n",
        "accuracy = accuracy_score(y_test, y_pred)\n",
        "print(f\"Neural Network Model Accuracy: {accuracy * 100:.2f}%\")\n",
        "\n",
        "# Predict SalesUp for a new observation\n",
        "new_observation = pd.DataFrame({\n",
        "    'Rating': [5],\n",
        "    'Length': [200],\n",
        "    'Sentiment': [-1],  # negative sentiment\n",
        "    'Votes': [5]\n",
        "})\n",
        "\n",
        "# Scale the new observation using the same scaler\n",
        "new_observation_scaled = scaler.transform(new_observation)\n",
        "\n",
        "predicted_salesup = nn_model.predict(new_observation_scaled)\n",
        "print(f\"Predicted SalesUp for new observation: {predicted_salesup[0]}\")"
      ],
      "metadata": {
        "colab": {
          "base_uri": "https://localhost:8080/"
        },
        "id": "aSS5WKns0-0y",
        "outputId": "ef9fa55f-9779-4827-c427-e8af12d69352"
      },
      "execution_count": 3,
      "outputs": [
        {
          "output_type": "stream",
          "name": "stdout",
          "text": [
            "Neural Network Model Accuracy: 75.00%\n",
            "Predicted SalesUp for new observation: 1\n"
          ]
        },
        {
          "output_type": "stream",
          "name": "stderr",
          "text": [
            "/usr/local/lib/python3.11/dist-packages/sklearn/neural_network/_multilayer_perceptron.py:691: ConvergenceWarning: Stochastic Optimizer: Maximum iterations (500) reached and the optimization hasn't converged yet.\n",
            "  warnings.warn(\n"
          ]
        }
      ]
    },
    {
      "cell_type": "code",
      "source": [
        "import pandas as pd\n",
        "import numpy as np\n",
        "from sklearn.model_selection import train_test_split\n",
        "from sklearn.linear_model import LinearRegression\n",
        "from sklearn.metrics import mean_squared_error, mean_absolute_error\n",
        "\n",
        "# Load the dataset\n",
        "data = pd.read_csv('ReviewData.csv')\n",
        "\n",
        "# Convert Sentiment to numerical values\n",
        "data['Sentiment'] = data['Sentiment'].map({'positive': 1, 'negative': -1})\n",
        "\n",
        "# Define independent (X) and dependent (y) variables\n",
        "X = data[['Rating', 'Length', 'Sentiment']]\n",
        "y = data['Votes']\n",
        "\n",
        "# Split data into training and testing sets\n",
        "X_train, X_test, y_train, y_test = train_test_split(X, y, test_size=0.2, random_state=42)\n",
        "\n",
        "# Train the linear regression model\n",
        "model = LinearRegression()\n",
        "model.fit(X_train, y_train)\n",
        "\n",
        "# Make predictions\n",
        "y_pred = model.predict(X_test)\n",
        "\n",
        "# Calculate MSE and MAE\n",
        "mse = mean_squared_error(y_test, y_pred)\n",
        "mae = mean_absolute_error(y_test, y_pred)\n",
        "\n",
        "print(f'Mean Squared Error: {mse}')\n",
        "print(f'Mean Absolute Error: {mae}')\n",
        "\n",
        "# Predict Votes for a new observation\n",
        "new_observation = np.array([[5, 200, -1]])  # Rating=5, Length=200, Sentiment=negative\n",
        "predicted_votes = model.predict(new_observation)\n",
        "print(f'Predicted Votes for new observation: {predicted_votes[0]}')"
      ],
      "metadata": {
        "id": "M5vkLSRoJo6o",
        "colab": {
          "base_uri": "https://localhost:8080/"
        },
        "outputId": "c9cac541-f874-4a12-a471-ec3af55dbb05"
      },
      "execution_count": 4,
      "outputs": [
        {
          "output_type": "stream",
          "name": "stdout",
          "text": [
            "Mean Squared Error: 0.735119576469855\n",
            "Mean Absolute Error: 0.7819307541376693\n",
            "Predicted Votes for new observation: 0.9537482385863394\n"
          ]
        },
        {
          "output_type": "stream",
          "name": "stderr",
          "text": [
            "/usr/local/lib/python3.11/dist-packages/sklearn/utils/validation.py:2739: UserWarning: X does not have valid feature names, but LinearRegression was fitted with feature names\n",
            "  warnings.warn(\n"
          ]
        }
      ]
    }
  ]
}